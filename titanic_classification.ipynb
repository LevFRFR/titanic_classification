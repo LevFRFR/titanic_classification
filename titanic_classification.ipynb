{
  "nbformat": 4,
  "nbformat_minor": 0,
  "metadata": {
    "colab": {
      "provenance": [],
      "collapsed_sections": [
        "WC6oN17y4AQJ",
        "9Rt_2moO4Dky",
        "7TvR3VGn5Kke",
        "1iCdbk3B80Ls"
      ],
      "mount_file_id": "1aPHLX6tNyWWyyHqX4scbLYHEChuHe-OW",
      "authorship_tag": "ABX9TyM8ux0gFFPIJM9D4jW7zbrw",
      "include_colab_link": true
    },
    "kernelspec": {
      "name": "python3",
      "display_name": "Python 3"
    },
    "language_info": {
      "name": "python"
    }
  },
  "cells": [
    {
      "cell_type": "markdown",
      "metadata": {
        "id": "view-in-github",
        "colab_type": "text"
      },
      "source": [
        "<a href=\"https://colab.research.google.com/github/LevFRFR/titanic_classification/blob/main/titanic_classification.ipynb\" target=\"_parent\"><img src=\"https://colab.research.google.com/assets/colab-badge.svg\" alt=\"Open In Colab\"/></a>"
      ]
    },
    {
      "cell_type": "markdown",
      "source": [
        "## Plan:\n",
        "- Look at big picture\n",
        "- Get the data\n",
        "- Explore and visualize the data\n",
        "- Prepare the data for machine learning algorithms\n",
        "- Select a model and train it\n",
        "- Fine-tune the model\n",
        "- Present solution\n",
        "- Launch"
      ],
      "metadata": {
        "id": "Z8yacMdFN8bh"
      }
    },
    {
      "cell_type": "markdown",
      "source": [
        "## Look at the big picture\n",
        "\n",
        "**Problem**: build a classifier to predict who survives the infamous titanic catastrophe and who does not.\n",
        "\n"
      ],
      "metadata": {
        "id": "cCbs5dW5QAh9"
      }
    },
    {
      "cell_type": "markdown",
      "source": [
        "## Get the data"
      ],
      "metadata": {
        "id": "KF9j6x-cOan6"
      }
    },
    {
      "cell_type": "code",
      "execution_count": null,
      "metadata": {
        "id": "Q1HlhgrDIzpe"
      },
      "outputs": [],
      "source": [
        "# imports\n",
        "import os\n",
        "import pandas as pd\n",
        "import numpy as np\n",
        "import matplotlib.pyplot as plt"
      ]
    },
    {
      "cell_type": "code",
      "source": [
        "def get__Data(set = 'train'):\n",
        "  f = f'/content/drive/MyDrive/Colab Notebooks/ml project #1 2023-01-25/data/{str(set)}.csv'\n",
        "  return pd.read_csv(f)\n",
        "\n",
        "data = get__Data()"
      ],
      "metadata": {
        "id": "6LJZmFOMPjKw"
      },
      "execution_count": null,
      "outputs": []
    },
    {
      "cell_type": "markdown",
      "source": [
        "### Set random seed"
      ],
      "metadata": {
        "id": "uTOC52P4EwR9"
      }
    },
    {
      "cell_type": "code",
      "source": [
        "# set random seed\n",
        "np.random.seed(42)"
      ],
      "metadata": {
        "id": "xXse44x9EVr1"
      },
      "execution_count": null,
      "outputs": []
    },
    {
      "cell_type": "markdown",
      "source": [
        "### Create a Test Set"
      ],
      "metadata": {
        "id": "IOu6MpmHEuY6"
      }
    },
    {
      "cell_type": "code",
      "source": [
        "from sklearn.model_selection import train_test_split\n",
        "\n",
        "train_set, test_set = train_test_split(data, test_size=0.2, random_state=42)"
      ],
      "metadata": {
        "id": "_f7j-BcVEYlM"
      },
      "execution_count": null,
      "outputs": []
    },
    {
      "cell_type": "code",
      "source": [
        "titanic = train_set.copy()\n",
        "# titanic = data"
      ],
      "metadata": {
        "id": "qdWUAxr2FrQT"
      },
      "execution_count": null,
      "outputs": []
    },
    {
      "cell_type": "markdown",
      "source": [
        "## Explore and visualize the data"
      ],
      "metadata": {
        "id": "wiQqDS7gYN4C"
      }
    },
    {
      "cell_type": "code",
      "source": [
        "titanic.head()"
      ],
      "metadata": {
        "colab": {
          "base_uri": "https://localhost:8080/",
          "height": 206
        },
        "id": "xtzkQABdPu5U",
        "outputId": "4273bbce-bd92-4182-c079-c7bc5fa926d8"
      },
      "execution_count": null,
      "outputs": [
        {
          "output_type": "execute_result",
          "data": {
            "text/plain": [
              "   PassengerId  Survived  Pclass  \\\n",
              "0            1         0       3   \n",
              "1            2         1       1   \n",
              "2            3         1       3   \n",
              "3            4         1       1   \n",
              "4            5         0       3   \n",
              "\n",
              "                                                Name     Sex   Age  SibSp  \\\n",
              "0                            Braund, Mr. Owen Harris    male  22.0      1   \n",
              "1  Cumings, Mrs. John Bradley (Florence Briggs Th...  female  38.0      1   \n",
              "2                             Heikkinen, Miss. Laina  female  26.0      0   \n",
              "3       Futrelle, Mrs. Jacques Heath (Lily May Peel)  female  35.0      1   \n",
              "4                           Allen, Mr. William Henry    male  35.0      0   \n",
              "\n",
              "   Parch            Ticket     Fare Cabin Embarked  \n",
              "0      0         A/5 21171   7.2500   NaN        S  \n",
              "1      0          PC 17599  71.2833   C85        C  \n",
              "2      0  STON/O2. 3101282   7.9250   NaN        S  \n",
              "3      0            113803  53.1000  C123        S  \n",
              "4      0            373450   8.0500   NaN        S  "
            ],
            "text/html": [
              "\n",
              "  <div id=\"df-f5d33432-8651-4de5-a370-93aed069ab41\">\n",
              "    <div class=\"colab-df-container\">\n",
              "      <div>\n",
              "<style scoped>\n",
              "    .dataframe tbody tr th:only-of-type {\n",
              "        vertical-align: middle;\n",
              "    }\n",
              "\n",
              "    .dataframe tbody tr th {\n",
              "        vertical-align: top;\n",
              "    }\n",
              "\n",
              "    .dataframe thead th {\n",
              "        text-align: right;\n",
              "    }\n",
              "</style>\n",
              "<table border=\"1\" class=\"dataframe\">\n",
              "  <thead>\n",
              "    <tr style=\"text-align: right;\">\n",
              "      <th></th>\n",
              "      <th>PassengerId</th>\n",
              "      <th>Survived</th>\n",
              "      <th>Pclass</th>\n",
              "      <th>Name</th>\n",
              "      <th>Sex</th>\n",
              "      <th>Age</th>\n",
              "      <th>SibSp</th>\n",
              "      <th>Parch</th>\n",
              "      <th>Ticket</th>\n",
              "      <th>Fare</th>\n",
              "      <th>Cabin</th>\n",
              "      <th>Embarked</th>\n",
              "    </tr>\n",
              "  </thead>\n",
              "  <tbody>\n",
              "    <tr>\n",
              "      <th>0</th>\n",
              "      <td>1</td>\n",
              "      <td>0</td>\n",
              "      <td>3</td>\n",
              "      <td>Braund, Mr. Owen Harris</td>\n",
              "      <td>male</td>\n",
              "      <td>22.0</td>\n",
              "      <td>1</td>\n",
              "      <td>0</td>\n",
              "      <td>A/5 21171</td>\n",
              "      <td>7.2500</td>\n",
              "      <td>NaN</td>\n",
              "      <td>S</td>\n",
              "    </tr>\n",
              "    <tr>\n",
              "      <th>1</th>\n",
              "      <td>2</td>\n",
              "      <td>1</td>\n",
              "      <td>1</td>\n",
              "      <td>Cumings, Mrs. John Bradley (Florence Briggs Th...</td>\n",
              "      <td>female</td>\n",
              "      <td>38.0</td>\n",
              "      <td>1</td>\n",
              "      <td>0</td>\n",
              "      <td>PC 17599</td>\n",
              "      <td>71.2833</td>\n",
              "      <td>C85</td>\n",
              "      <td>C</td>\n",
              "    </tr>\n",
              "    <tr>\n",
              "      <th>2</th>\n",
              "      <td>3</td>\n",
              "      <td>1</td>\n",
              "      <td>3</td>\n",
              "      <td>Heikkinen, Miss. Laina</td>\n",
              "      <td>female</td>\n",
              "      <td>26.0</td>\n",
              "      <td>0</td>\n",
              "      <td>0</td>\n",
              "      <td>STON/O2. 3101282</td>\n",
              "      <td>7.9250</td>\n",
              "      <td>NaN</td>\n",
              "      <td>S</td>\n",
              "    </tr>\n",
              "    <tr>\n",
              "      <th>3</th>\n",
              "      <td>4</td>\n",
              "      <td>1</td>\n",
              "      <td>1</td>\n",
              "      <td>Futrelle, Mrs. Jacques Heath (Lily May Peel)</td>\n",
              "      <td>female</td>\n",
              "      <td>35.0</td>\n",
              "      <td>1</td>\n",
              "      <td>0</td>\n",
              "      <td>113803</td>\n",
              "      <td>53.1000</td>\n",
              "      <td>C123</td>\n",
              "      <td>S</td>\n",
              "    </tr>\n",
              "    <tr>\n",
              "      <th>4</th>\n",
              "      <td>5</td>\n",
              "      <td>0</td>\n",
              "      <td>3</td>\n",
              "      <td>Allen, Mr. William Henry</td>\n",
              "      <td>male</td>\n",
              "      <td>35.0</td>\n",
              "      <td>0</td>\n",
              "      <td>0</td>\n",
              "      <td>373450</td>\n",
              "      <td>8.0500</td>\n",
              "      <td>NaN</td>\n",
              "      <td>S</td>\n",
              "    </tr>\n",
              "  </tbody>\n",
              "</table>\n",
              "</div>\n",
              "      <button class=\"colab-df-convert\" onclick=\"convertToInteractive('df-f5d33432-8651-4de5-a370-93aed069ab41')\"\n",
              "              title=\"Convert this dataframe to an interactive table.\"\n",
              "              style=\"display:none;\">\n",
              "        \n",
              "  <svg xmlns=\"http://www.w3.org/2000/svg\" height=\"24px\"viewBox=\"0 0 24 24\"\n",
              "       width=\"24px\">\n",
              "    <path d=\"M0 0h24v24H0V0z\" fill=\"none\"/>\n",
              "    <path d=\"M18.56 5.44l.94 2.06.94-2.06 2.06-.94-2.06-.94-.94-2.06-.94 2.06-2.06.94zm-11 1L8.5 8.5l.94-2.06 2.06-.94-2.06-.94L8.5 2.5l-.94 2.06-2.06.94zm10 10l.94 2.06.94-2.06 2.06-.94-2.06-.94-.94-2.06-.94 2.06-2.06.94z\"/><path d=\"M17.41 7.96l-1.37-1.37c-.4-.4-.92-.59-1.43-.59-.52 0-1.04.2-1.43.59L10.3 9.45l-7.72 7.72c-.78.78-.78 2.05 0 2.83L4 21.41c.39.39.9.59 1.41.59.51 0 1.02-.2 1.41-.59l7.78-7.78 2.81-2.81c.8-.78.8-2.07 0-2.86zM5.41 20L4 18.59l7.72-7.72 1.47 1.35L5.41 20z\"/>\n",
              "  </svg>\n",
              "      </button>\n",
              "      \n",
              "  <style>\n",
              "    .colab-df-container {\n",
              "      display:flex;\n",
              "      flex-wrap:wrap;\n",
              "      gap: 12px;\n",
              "    }\n",
              "\n",
              "    .colab-df-convert {\n",
              "      background-color: #E8F0FE;\n",
              "      border: none;\n",
              "      border-radius: 50%;\n",
              "      cursor: pointer;\n",
              "      display: none;\n",
              "      fill: #1967D2;\n",
              "      height: 32px;\n",
              "      padding: 0 0 0 0;\n",
              "      width: 32px;\n",
              "    }\n",
              "\n",
              "    .colab-df-convert:hover {\n",
              "      background-color: #E2EBFA;\n",
              "      box-shadow: 0px 1px 2px rgba(60, 64, 67, 0.3), 0px 1px 3px 1px rgba(60, 64, 67, 0.15);\n",
              "      fill: #174EA6;\n",
              "    }\n",
              "\n",
              "    [theme=dark] .colab-df-convert {\n",
              "      background-color: #3B4455;\n",
              "      fill: #D2E3FC;\n",
              "    }\n",
              "\n",
              "    [theme=dark] .colab-df-convert:hover {\n",
              "      background-color: #434B5C;\n",
              "      box-shadow: 0px 1px 3px 1px rgba(0, 0, 0, 0.15);\n",
              "      filter: drop-shadow(0px 1px 2px rgba(0, 0, 0, 0.3));\n",
              "      fill: #FFFFFF;\n",
              "    }\n",
              "  </style>\n",
              "\n",
              "      <script>\n",
              "        const buttonEl =\n",
              "          document.querySelector('#df-f5d33432-8651-4de5-a370-93aed069ab41 button.colab-df-convert');\n",
              "        buttonEl.style.display =\n",
              "          google.colab.kernel.accessAllowed ? 'block' : 'none';\n",
              "\n",
              "        async function convertToInteractive(key) {\n",
              "          const element = document.querySelector('#df-f5d33432-8651-4de5-a370-93aed069ab41');\n",
              "          const dataTable =\n",
              "            await google.colab.kernel.invokeFunction('convertToInteractive',\n",
              "                                                     [key], {});\n",
              "          if (!dataTable) return;\n",
              "\n",
              "          const docLinkHtml = 'Like what you see? Visit the ' +\n",
              "            '<a target=\"_blank\" href=https://colab.research.google.com/notebooks/data_table.ipynb>data table notebook</a>'\n",
              "            + ' to learn more about interactive tables.';\n",
              "          element.innerHTML = '';\n",
              "          dataTable['output_type'] = 'display_data';\n",
              "          await google.colab.output.renderOutput(dataTable, element);\n",
              "          const docLink = document.createElement('div');\n",
              "          docLink.innerHTML = docLinkHtml;\n",
              "          element.appendChild(docLink);\n",
              "        }\n",
              "      </script>\n",
              "    </div>\n",
              "  </div>\n",
              "  "
            ]
          },
          "metadata": {},
          "execution_count": 6
        }
      ]
    },
    {
      "cell_type": "code",
      "source": [
        "titanic.info()\n",
        "\n",
        "# features `Age`, `Embarked` & `Cabin` would require missing value treatment since they contain nulls."
      ],
      "metadata": {
        "colab": {
          "base_uri": "https://localhost:8080/"
        },
        "id": "QIcP7iaNRpgi",
        "outputId": "2c6ac327-a7c8-4b15-e131-78c229dc2545"
      },
      "execution_count": null,
      "outputs": [
        {
          "output_type": "stream",
          "name": "stdout",
          "text": [
            "<class 'pandas.core.frame.DataFrame'>\n",
            "RangeIndex: 891 entries, 0 to 890\n",
            "Data columns (total 12 columns):\n",
            " #   Column       Non-Null Count  Dtype  \n",
            "---  ------       --------------  -----  \n",
            " 0   PassengerId  891 non-null    int64  \n",
            " 1   Survived     891 non-null    int64  \n",
            " 2   Pclass       891 non-null    int64  \n",
            " 3   Name         891 non-null    object \n",
            " 4   Sex          891 non-null    object \n",
            " 5   Age          714 non-null    float64\n",
            " 6   SibSp        891 non-null    int64  \n",
            " 7   Parch        891 non-null    int64  \n",
            " 8   Ticket       891 non-null    object \n",
            " 9   Fare         891 non-null    float64\n",
            " 10  Cabin        204 non-null    object \n",
            " 11  Embarked     889 non-null    object \n",
            "dtypes: float64(2), int64(5), object(5)\n",
            "memory usage: 83.7+ KB\n"
          ]
        }
      ]
    },
    {
      "cell_type": "code",
      "source": [
        "titanic.select_dtypes([np.number]).columns\n",
        "\n",
        "# the following columns are numeric, will need to check the whether the distribution is bell-shaped\n",
        "# to ensure minimum bias during training"
      ],
      "metadata": {
        "colab": {
          "base_uri": "https://localhost:8080/"
        },
        "id": "WuQbHaLgSbA_",
        "outputId": "c5d82690-2e27-4431-e210-81df4c661f03"
      },
      "execution_count": null,
      "outputs": [
        {
          "output_type": "execute_result",
          "data": {
            "text/plain": [
              "Index(['PassengerId', 'Survived', 'Pclass', 'Age', 'SibSp', 'Parch', 'Fare'], dtype='object')"
            ]
          },
          "metadata": {},
          "execution_count": 8
        }
      ]
    },
    {
      "cell_type": "code",
      "source": [
        "titanic.select_dtypes(object).columns\n",
        "\n",
        "# meanwhile, these are all the string column\n",
        "# consider cutting some out and cleaning data prepping others"
      ],
      "metadata": {
        "colab": {
          "base_uri": "https://localhost:8080/"
        },
        "id": "o_xQQGphS8Gq",
        "outputId": "c681c955-99df-455f-f57e-b4a90365b3a4"
      },
      "execution_count": null,
      "outputs": [
        {
          "output_type": "execute_result",
          "data": {
            "text/plain": [
              "Index(['Name', 'Sex', 'Ticket', 'Cabin', 'Embarked'], dtype='object')"
            ]
          },
          "metadata": {},
          "execution_count": 9
        }
      ]
    },
    {
      "cell_type": "code",
      "source": [
        "titanic.drop(columns='PassengerId').hist(bins=25, figsize=(12,6))\n",
        "plt.show()\n",
        "\n",
        "# seemingly most of the features (excluding the label of `survived`) have a tendency to skew rightward\n",
        "# (have more records spanning further right of the median value)\n",
        "\n",
        "# additionally, Pclass sounds like it should be a categorical feature, not numerical"
      ],
      "metadata": {
        "colab": {
          "base_uri": "https://localhost:8080/",
          "height": 390
        },
        "id": "CaVrRrabTp6u",
        "outputId": "b974c099-66f6-4c1d-b27a-11bf9a140306"
      },
      "execution_count": null,
      "outputs": [
        {
          "output_type": "display_data",
          "data": {
            "text/plain": [
              "<Figure size 864x432 with 6 Axes>"
            ],
            "image/png": "[encoded data removed]"
          },
          "metadata": {
            "needs_background": "light"
          }
        }
      ]
    },
    {
      "cell_type": "markdown",
      "source": [
        "### Checking for correlation"
      ],
      "metadata": {
        "id": "JRnOEp_PYV7W"
      }
    },
    {
      "cell_type": "code",
      "source": [
        "from pandas.plotting import scatter_matrix\n",
        "\n",
        "# attributes = ['Age', 'SibSp', 'Parch', 'Fare']\n",
        "attributes = ['Age', 'Fare', 'Survived']\n",
        "\n",
        "scatter_matrix(titanic[attributes], figsize=(12,12), alpha=0.4)\n",
        "plt.show()\n",
        "\n",
        "# at the second glance, every feature except age and fare look like they should be treated as categorical"
      ],
      "metadata": {
        "colab": {
          "base_uri": "https://localhost:8080/",
          "height": 719
        },
        "id": "Zgs2nW_TYTM3",
        "outputId": "d337bb90-8a97-42f5-b2d7-a698a591e635"
      },
      "execution_count": null,
      "outputs": [
        {
          "output_type": "display_data",
          "data": {
            "text/plain": [
              "<Figure size 864x864 with 9 Axes>"
            ],
            "image/png": "[encoded data removed]"
          },
          "metadata": {
            "needs_background": "light"
          }
        }
      ]
    },
    {
      "cell_type": "code",
      "source": [
        "corr_matrix = titanic.drop(columns='PassengerId').corr()\n",
        "corr_matrix['Survived'].sort_values(ascending=False)"
      ],
      "metadata": {
        "colab": {
          "base_uri": "https://localhost:8080/"
        },
        "id": "J-cQ0HeFdJoh",
        "outputId": "69b63d2f-139b-4d5f-8237-e2feac2aa6d3"
      },
      "execution_count": null,
      "outputs": [
        {
          "output_type": "execute_result",
          "data": {
            "text/plain": [
              "Survived    1.000000\n",
              "Fare        0.257307\n",
              "Parch       0.081629\n",
              "SibSp      -0.035322\n",
              "Age        -0.077221\n",
              "Pclass     -0.338481\n",
              "Name: Survived, dtype: float64"
            ]
          },
          "metadata": {},
          "execution_count": 12
        }
      ]
    },
    {
      "cell_type": "code",
      "source": [
        "titanic.value_counts('Parch')"
      ],
      "metadata": {
        "colab": {
          "base_uri": "https://localhost:8080/"
        },
        "id": "kz7kiANedlW9",
        "outputId": "3d72d610-bcec-47a3-c5f6-9e1f1157589f"
      },
      "execution_count": null,
      "outputs": [
        {
          "output_type": "execute_result",
          "data": {
            "text/plain": [
              "Parch\n",
              "0    678\n",
              "1    118\n",
              "2     80\n",
              "3      5\n",
              "5      5\n",
              "4      4\n",
              "6      1\n",
              "dtype: int64"
            ]
          },
          "metadata": {},
          "execution_count": 13
        }
      ]
    },
    {
      "cell_type": "code",
      "source": [
        "titanic.columns"
      ],
      "metadata": {
        "colab": {
          "base_uri": "https://localhost:8080/"
        },
        "id": "mWS67CjzgPIi",
        "outputId": "831ffbfb-39f8-473e-bad8-951397d68915"
      },
      "execution_count": null,
      "outputs": [
        {
          "output_type": "execute_result",
          "data": {
            "text/plain": [
              "Index(['PassengerId', 'Survived', 'Pclass', 'Name', 'Sex', 'Age', 'SibSp',\n",
              "       'Parch', 'Ticket', 'Fare', 'Cabin', 'Embarked'],\n",
              "      dtype='object')"
            ]
          },
          "metadata": {},
          "execution_count": 14
        }
      ]
    },
    {
      "cell_type": "markdown",
      "source": [
        "#### Plan after day 1:\n",
        "And quick notes about assumptions...\n",
        "- Keep `Fare` as is, produce a log of it to create distribution closer to a bell-shape.\n",
        "- turn `Parch` into categorical variable (lone survivor, couple, group).\n",
        "- potentially same with `SibSp`.\n",
        "- Get RBF Similarity function working for `Age`'s mode.\n",
        "- Turn `Pclass` into low- & high- classes (the lower the class — the higher likelihood of survival)."
      ],
      "metadata": {
        "id": "M1duMWA3gPnj"
      }
    },
    {
      "cell_type": "markdown",
      "source": [
        "## Clean Data"
      ],
      "metadata": {
        "id": "E3tbrGyY-r3v"
      }
    },
    {
      "cell_type": "code",
      "source": [
        "titanic = train_set.drop('Survived', axis=1)\n",
        "titanic_labels = train_set['Survived'].copy()"
      ],
      "metadata": {
        "id": "gPMw79bosWEk"
      },
      "execution_count": null,
      "outputs": []
    },
    {
      "cell_type": "markdown",
      "source": [
        "### Handling Missing Values"
      ],
      "metadata": {
        "id": "4w4k7A_hFAXl"
      }
    },
    {
      "cell_type": "code",
      "source": [
        "# imputing age feature\n",
        "\n",
        "from sklearn.impute import SimpleImputer\n",
        "\n",
        "imputer = SimpleImputer(strategy='median')\n",
        "titanic_age = titanic[['Age']]\n",
        "imputer.fit(titanic_age)"
      ],
      "metadata": {
        "colab": {
          "base_uri": "https://localhost:8080/"
        },
        "id": "3yoFijll_C1q",
        "outputId": "cdfd207f-c331-4ef1-92a6-eeceba4f343a"
      },
      "execution_count": null,
      "outputs": [
        {
          "output_type": "execute_result",
          "data": {
            "text/plain": [
              "SimpleImputer(strategy='median')"
            ]
          },
          "metadata": {},
          "execution_count": 16
        }
      ]
    },
    {
      "cell_type": "code",
      "source": [
        "imputer.statistics_\n",
        "# median age 28"
      ],
      "metadata": {
        "colab": {
          "base_uri": "https://localhost:8080/"
        },
        "id": "EUuVw7rhA4Lv",
        "outputId": "9c3a6270-66a5-4505-8af4-44e371915070"
      },
      "execution_count": null,
      "outputs": [
        {
          "output_type": "execute_result",
          "data": {
            "text/plain": [
              "array([28.])"
            ]
          },
          "metadata": {},
          "execution_count": 17
        }
      ]
    },
    {
      "cell_type": "markdown",
      "source": [
        "### Handling categorical features"
      ],
      "metadata": {
        "id": "XI5UR5-5BlQh"
      }
    },
    {
      "cell_type": "code",
      "source": [
        "titanic_cat = titanic[['Sex','Pclass']]\n",
        "titanic_cat.head()"
      ],
      "metadata": {
        "colab": {
          "base_uri": "https://localhost:8080/",
          "height": 206
        },
        "id": "_7lhr4bJBiDE",
        "outputId": "fc0ce157-7ef2-43a7-a331-6aeb2d949464"
      },
      "execution_count": null,
      "outputs": [
        {
          "output_type": "execute_result",
          "data": {
            "text/plain": [
              "        Sex  Pclass\n",
              "331    male       1\n",
              "733    male       2\n",
              "382    male       3\n",
              "704    male       3\n",
              "813  female       3"
            ],
            "text/html": [
              "\n",
              "  <div id=\"df-7d7dd51b-18a8-4bc8-b653-2a1935baf9ac\">\n",
              "    <div class=\"colab-df-container\">\n",
              "      <div>\n",
              "<style scoped>\n",
              "    .dataframe tbody tr th:only-of-type {\n",
              "        vertical-align: middle;\n",
              "    }\n",
              "\n",
              "    .dataframe tbody tr th {\n",
              "        vertical-align: top;\n",
              "    }\n",
              "\n",
              "    .dataframe thead th {\n",
              "        text-align: right;\n",
              "    }\n",
              "</style>\n",
              "<table border=\"1\" class=\"dataframe\">\n",
              "  <thead>\n",
              "    <tr style=\"text-align: right;\">\n",
              "      <th></th>\n",
              "      <th>Sex</th>\n",
              "      <th>Pclass</th>\n",
              "    </tr>\n",
              "  </thead>\n",
              "  <tbody>\n",
              "    <tr>\n",
              "      <th>331</th>\n",
              "      <td>male</td>\n",
              "      <td>1</td>\n",
              "    </tr>\n",
              "    <tr>\n",
              "      <th>733</th>\n",
              "      <td>male</td>\n",
              "      <td>2</td>\n",
              "    </tr>\n",
              "    <tr>\n",
              "      <th>382</th>\n",
              "      <td>male</td>\n",
              "      <td>3</td>\n",
              "    </tr>\n",
              "    <tr>\n",
              "      <th>704</th>\n",
              "      <td>male</td>\n",
              "      <td>3</td>\n",
              "    </tr>\n",
              "    <tr>\n",
              "      <th>813</th>\n",
              "      <td>female</td>\n",
              "      <td>3</td>\n",
              "    </tr>\n",
              "  </tbody>\n",
              "</table>\n",
              "</div>\n",
              "      <button class=\"colab-df-convert\" onclick=\"convertToInteractive('df-7d7dd51b-18a8-4bc8-b653-2a1935baf9ac')\"\n",
              "              title=\"Convert this dataframe to an interactive table.\"\n",
              "              style=\"display:none;\">\n",
              "        \n",
              "  <svg xmlns=\"http://www.w3.org/2000/svg\" height=\"24px\"viewBox=\"0 0 24 24\"\n",
              "       width=\"24px\">\n",
              "    <path d=\"M0 0h24v24H0V0z\" fill=\"none\"/>\n",
              "    <path d=\"M18.56 5.44l.94 2.06.94-2.06 2.06-.94-2.06-.94-.94-2.06-.94 2.06-2.06.94zm-11 1L8.5 8.5l.94-2.06 2.06-.94-2.06-.94L8.5 2.5l-.94 2.06-2.06.94zm10 10l.94 2.06.94-2.06 2.06-.94-2.06-.94-.94-2.06-.94 2.06-2.06.94z\"/><path d=\"M17.41 7.96l-1.37-1.37c-.4-.4-.92-.59-1.43-.59-.52 0-1.04.2-1.43.59L10.3 9.45l-7.72 7.72c-.78.78-.78 2.05 0 2.83L4 21.41c.39.39.9.59 1.41.59.51 0 1.02-.2 1.41-.59l7.78-7.78 2.81-2.81c.8-.78.8-2.07 0-2.86zM5.41 20L4 18.59l7.72-7.72 1.47 1.35L5.41 20z\"/>\n",
              "  </svg>\n",
              "      </button>\n",
              "      \n",
              "  <style>\n",
              "    .colab-df-container {\n",
              "      display:flex;\n",
              "      flex-wrap:wrap;\n",
              "      gap: 12px;\n",
              "    }\n",
              "\n",
              "    .colab-df-convert {\n",
              "      background-color: #E8F0FE;\n",
              "      border: none;\n",
              "      border-radius: 50%;\n",
              "      cursor: pointer;\n",
              "      display: none;\n",
              "      fill: #1967D2;\n",
              "      height: 32px;\n",
              "      padding: 0 0 0 0;\n",
              "      width: 32px;\n",
              "    }\n",
              "\n",
              "    .colab-df-convert:hover {\n",
              "      background-color: #E2EBFA;\n",
              "      box-shadow: 0px 1px 2px rgba(60, 64, 67, 0.3), 0px 1px 3px 1px rgba(60, 64, 67, 0.15);\n",
              "      fill: #174EA6;\n",
              "    }\n",
              "\n",
              "    [theme=dark] .colab-df-convert {\n",
              "      background-color: #3B4455;\n",
              "      fill: #D2E3FC;\n",
              "    }\n",
              "\n",
              "    [theme=dark] .colab-df-convert:hover {\n",
              "      background-color: #434B5C;\n",
              "      box-shadow: 0px 1px 3px 1px rgba(0, 0, 0, 0.15);\n",
              "      filter: drop-shadow(0px 1px 2px rgba(0, 0, 0, 0.3));\n",
              "      fill: #FFFFFF;\n",
              "    }\n",
              "  </style>\n",
              "\n",
              "      <script>\n",
              "        const buttonEl =\n",
              "          document.querySelector('#df-7d7dd51b-18a8-4bc8-b653-2a1935baf9ac button.colab-df-convert');\n",
              "        buttonEl.style.display =\n",
              "          google.colab.kernel.accessAllowed ? 'block' : 'none';\n",
              "\n",
              "        async function convertToInteractive(key) {\n",
              "          const element = document.querySelector('#df-7d7dd51b-18a8-4bc8-b653-2a1935baf9ac');\n",
              "          const dataTable =\n",
              "            await google.colab.kernel.invokeFunction('convertToInteractive',\n",
              "                                                     [key], {});\n",
              "          if (!dataTable) return;\n",
              "\n",
              "          const docLinkHtml = 'Like what you see? Visit the ' +\n",
              "            '<a target=\"_blank\" href=https://colab.research.google.com/notebooks/data_table.ipynb>data table notebook</a>'\n",
              "            + ' to learn more about interactive tables.';\n",
              "          element.innerHTML = '';\n",
              "          dataTable['output_type'] = 'display_data';\n",
              "          await google.colab.output.renderOutput(dataTable, element);\n",
              "          const docLink = document.createElement('div');\n",
              "          docLink.innerHTML = docLinkHtml;\n",
              "          element.appendChild(docLink);\n",
              "        }\n",
              "      </script>\n",
              "    </div>\n",
              "  </div>\n",
              "  "
            ]
          },
          "metadata": {},
          "execution_count": 18
        }
      ]
    },
    {
      "cell_type": "code",
      "source": [
        "# use one hot encoder on categorical variables\n",
        "\n",
        "from sklearn.preprocessing import OneHotEncoder\n",
        "\n",
        "cat_encoder = OneHotEncoder()\n",
        "titanic_cat_1hot = cat_encoder.fit_transform(titanic_cat)\n",
        "titanic_cat_1hot"
      ],
      "metadata": {
        "colab": {
          "base_uri": "https://localhost:8080/"
        },
        "id": "qB-Ehna0Byxc",
        "outputId": "629fd915-ad86-4b97-c44f-5e830a24d71a"
      },
      "execution_count": null,
      "outputs": [
        {
          "output_type": "execute_result",
          "data": {
            "text/plain": [
              "<712x5 sparse matrix of type '<class 'numpy.float64'>'\n",
              "\twith 1424 stored elements in Compressed Sparse Row format>"
            ]
          },
          "metadata": {},
          "execution_count": 19
        }
      ]
    },
    {
      "cell_type": "markdown",
      "source": [
        "### Feature Scaling and Transforming"
      ],
      "metadata": {
        "id": "eKEOlUXk2Wyv"
      }
    },
    {
      "cell_type": "code",
      "source": [
        "titanic['Fare'].sort_values(ascending=True)\n",
        "\n",
        "# there are some zeroes in the column, so we might need to get rid of them before logging it\n",
        "\n",
        "# create a new feature: paid or free ticket?"
      ],
      "metadata": {
        "colab": {
          "base_uri": "https://localhost:8080/"
        },
        "id": "L_raGbR1z9yo",
        "outputId": "82a7a367-d142-4edd-e8e4-a2a4a61da22c"
      },
      "execution_count": null,
      "outputs": [
        {
          "output_type": "execute_result",
          "data": {
            "text/plain": [
              "271      0.0000\n",
              "674      0.0000\n",
              "302      0.0000\n",
              "466      0.0000\n",
              "179      0.0000\n",
              "         ...   \n",
              "341    263.0000\n",
              "438    263.0000\n",
              "679    512.3292\n",
              "737    512.3292\n",
              "258    512.3292\n",
              "Name: Fare, Length: 712, dtype: float64"
            ]
          },
          "metadata": {},
          "execution_count": 20
        }
      ]
    },
    {
      "cell_type": "code",
      "source": [
        "idx_nonzero_fare = titanic['Fare'] != 0\n",
        "\n",
        "fare_without_unpaid = titanic['Fare'][idx_nonzero_fare]\n",
        "fare_without_unpaid"
      ],
      "metadata": {
        "colab": {
          "base_uri": "https://localhost:8080/"
        },
        "id": "0UbTNRSTH5pk",
        "outputId": "d1eee85a-c469-469e-e3ac-8c12ab34760d"
      },
      "execution_count": null,
      "outputs": [
        {
          "output_type": "execute_result",
          "data": {
            "text/plain": [
              "331     28.5000\n",
              "733     13.0000\n",
              "382      7.9250\n",
              "704      7.8542\n",
              "813     31.2750\n",
              "         ...   \n",
              "106      7.6500\n",
              "270     31.0000\n",
              "860     14.1083\n",
              "435    120.0000\n",
              "102     77.2875\n",
              "Name: Fare, Length: 699, dtype: float64"
            ]
          },
          "metadata": {},
          "execution_count": 21
        }
      ]
    },
    {
      "cell_type": "code",
      "source": [
        "# changing zeroes to negative infinity so log is computable\n",
        "fare_num_log = np.log( np.where( titanic['Fare'] == 0, np.NINF, titanic['Fare'] ) )"
      ],
      "metadata": {
        "colab": {
          "base_uri": "https://localhost:8080/"
        },
        "id": "DSJjFyvr09YH",
        "outputId": "63ef101e-8b33-4830-ec2f-07f324daf1e8"
      },
      "execution_count": null,
      "outputs": [
        {
          "output_type": "stream",
          "name": "stderr",
          "text": [
            "<ipython-input-22-d077a8599e32>:2: RuntimeWarning: invalid value encountered in log\n",
            "  fare_num_log = np.log( np.where( titanic['Fare'] == 0, np.NINF, titanic['Fare'] ) )\n"
          ]
        }
      ]
    },
    {
      "cell_type": "code",
      "source": [
        "np.log(np.NINF)"
      ],
      "metadata": {
        "colab": {
          "base_uri": "https://localhost:8080/"
        },
        "id": "zydT1Dd52ujl",
        "outputId": "fc5370f2-8ffb-4d4d-d175-9bcfb21ee2f1"
      },
      "execution_count": null,
      "outputs": [
        {
          "output_type": "stream",
          "name": "stderr",
          "text": [
            "<ipython-input-23-71539abeacaf>:1: RuntimeWarning: invalid value encountered in log\n",
            "  np.log(np.NINF)\n"
          ]
        },
        {
          "output_type": "execute_result",
          "data": {
            "text/plain": [
              "nan"
            ]
          },
          "metadata": {},
          "execution_count": 23
        }
      ]
    },
    {
      "cell_type": "code",
      "source": [
        "pd.Series(fare_num_log)"
      ],
      "metadata": {
        "colab": {
          "base_uri": "https://localhost:8080/"
        },
        "id": "AYlSOX7915os",
        "outputId": "843c5285-ab27-4da4-98d5-f9fab075c8e7"
      },
      "execution_count": null,
      "outputs": [
        {
          "output_type": "execute_result",
          "data": {
            "text/plain": [
              "0      3.349904\n",
              "1      2.564949\n",
              "2      2.070022\n",
              "3      2.061048\n",
              "4      3.442819\n",
              "         ...   \n",
              "707    2.034706\n",
              "708    3.433987\n",
              "709    2.646763\n",
              "710    4.787492\n",
              "711    4.347532\n",
              "Length: 712, dtype: float64"
            ]
          },
          "metadata": {},
          "execution_count": 24
        }
      ]
    },
    {
      "cell_type": "code",
      "source": [
        "# extra code – this cell generates Figure 2–17\n",
        "def plot2graphs(data1, data2):\n",
        "  fig, axs = plt.subplots(1, 2, figsize=(14,6), sharey=True)\n",
        "  data1.hist(ax=axs[0], bins=10)\n",
        "  data2.hist(ax=axs[1], bins=10)\n",
        "  # pd.Series(fare_num_log).hist(ax=axs[1], bins=10)\n",
        "  axs[0].set_xlabel(data1.name)\n",
        "  axs[1].set_xlabel(f\"Log of {data1.name}\")\n",
        "  axs[0].set_ylabel(\"Number of Persons\")\n",
        "  # save_fig(\"long_tail_plot\")\n",
        "  plt.show()\n",
        "\n",
        "\n",
        "plot2graphs(titanic['Fare'], pd.Series(fare_num_log))\n",
        "# this data still looks a little too skewed\n",
        "# let's try power transformation"
      ],
      "metadata": {
        "colab": {
          "base_uri": "https://localhost:8080/",
          "height": 388
        },
        "id": "kE8tr9pL5jze",
        "outputId": "fa316a04-5759-44d6-db5c-11f0649aa23e"
      },
      "execution_count": null,
      "outputs": [
        {
          "output_type": "display_data",
          "data": {
            "text/plain": [
              "<Figure size 1008x432 with 2 Axes>"
            ],
            "image/png": "[encoded data removed]"
          },
          "metadata": {
            "needs_background": "light"
          }
        }
      ]
    },
    {
      "cell_type": "code",
      "source": [
        "plot2graphs(titanic['Fare'],titanic['Fare']**(1/5))\n",
        "\n",
        "# ooh, looks better but still weird"
      ],
      "metadata": {
        "colab": {
          "base_uri": "https://localhost:8080/",
          "height": 388
        },
        "id": "hUDR_q8o65Tx",
        "outputId": "562aa61d-f8d5-41c0-c3b0-2df71c3b1f23"
      },
      "execution_count": null,
      "outputs": [
        {
          "output_type": "display_data",
          "data": {
            "text/plain": [
              "<Figure size 1008x432 with 2 Axes>"
            ],
            "image/png": "[encoded data removed]"
          },
          "metadata": {
            "needs_background": "light"
          }
        }
      ]
    },
    {
      "cell_type": "code",
      "source": [
        "from scipy.stats import boxcox\n",
        "\n",
        "bc_fare = pd.Series( boxcox(fare_without_unpaid)[0] )\n",
        "\n",
        "plot2graphs(titanic['Fare'], bc_fare )\n",
        "\n",
        "# good enough, although this is starting to look multimodal..."
      ],
      "metadata": {
        "colab": {
          "base_uri": "https://localhost:8080/",
          "height": 388
        },
        "id": "P4goYTzy8Yd6",
        "outputId": "f132213d-777a-4a15-c4b7-b8d5ffc95826"
      },
      "execution_count": null,
      "outputs": [
        {
          "output_type": "display_data",
          "data": {
            "text/plain": [
              "<Figure size 1008x432 with 2 Axes>"
            ],
            "image/png": "[encoded data removed]"
          },
          "metadata": {
            "needs_background": "light"
          }
        }
      ]
    },
    {
      "cell_type": "code",
      "source": [
        "X = imputer.transform(titanic_age)\n",
        "\n",
        "pd.DataFrame(X, columns=imputer.feature_names_in_)"
      ],
      "metadata": {
        "colab": {
          "base_uri": "https://localhost:8080/",
          "height": 424
        },
        "id": "04HqnwEMLYVD",
        "outputId": "b110dfa8-8d03-443a-bd75-c493b632d87a"
      },
      "execution_count": null,
      "outputs": [
        {
          "output_type": "execute_result",
          "data": {
            "text/plain": [
              "      Age\n",
              "0    45.5\n",
              "1    23.0\n",
              "2    32.0\n",
              "3    26.0\n",
              "4     6.0\n",
              "..    ...\n",
              "707  21.0\n",
              "708  28.0\n",
              "709  41.0\n",
              "710  14.0\n",
              "711  21.0\n",
              "\n",
              "[712 rows x 1 columns]"
            ],
            "text/html": [
              "\n",
              "  <div id=\"df-eaaa7cbb-1246-4590-8d53-b8e7f9a1f30f\">\n",
              "    <div class=\"colab-df-container\">\n",
              "      <div>\n",
              "<style scoped>\n",
              "    .dataframe tbody tr th:only-of-type {\n",
              "        vertical-align: middle;\n",
              "    }\n",
              "\n",
              "    .dataframe tbody tr th {\n",
              "        vertical-align: top;\n",
              "    }\n",
              "\n",
              "    .dataframe thead th {\n",
              "        text-align: right;\n",
              "    }\n",
              "</style>\n",
              "<table border=\"1\" class=\"dataframe\">\n",
              "  <thead>\n",
              "    <tr style=\"text-align: right;\">\n",
              "      <th></th>\n",
              "      <th>Age</th>\n",
              "    </tr>\n",
              "  </thead>\n",
              "  <tbody>\n",
              "    <tr>\n",
              "      <th>0</th>\n",
              "      <td>45.5</td>\n",
              "    </tr>\n",
              "    <tr>\n",
              "      <th>1</th>\n",
              "      <td>23.0</td>\n",
              "    </tr>\n",
              "    <tr>\n",
              "      <th>2</th>\n",
              "      <td>32.0</td>\n",
              "    </tr>\n",
              "    <tr>\n",
              "      <th>3</th>\n",
              "      <td>26.0</td>\n",
              "    </tr>\n",
              "    <tr>\n",
              "      <th>4</th>\n",
              "      <td>6.0</td>\n",
              "    </tr>\n",
              "    <tr>\n",
              "      <th>...</th>\n",
              "      <td>...</td>\n",
              "    </tr>\n",
              "    <tr>\n",
              "      <th>707</th>\n",
              "      <td>21.0</td>\n",
              "    </tr>\n",
              "    <tr>\n",
              "      <th>708</th>\n",
              "      <td>28.0</td>\n",
              "    </tr>\n",
              "    <tr>\n",
              "      <th>709</th>\n",
              "      <td>41.0</td>\n",
              "    </tr>\n",
              "    <tr>\n",
              "      <th>710</th>\n",
              "      <td>14.0</td>\n",
              "    </tr>\n",
              "    <tr>\n",
              "      <th>711</th>\n",
              "      <td>21.0</td>\n",
              "    </tr>\n",
              "  </tbody>\n",
              "</table>\n",
              "<p>712 rows × 1 columns</p>\n",
              "</div>\n",
              "      <button class=\"colab-df-convert\" onclick=\"convertToInteractive('df-eaaa7cbb-1246-4590-8d53-b8e7f9a1f30f')\"\n",
              "              title=\"Convert this dataframe to an interactive table.\"\n",
              "              style=\"display:none;\">\n",
              "        \n",
              "  <svg xmlns=\"http://www.w3.org/2000/svg\" height=\"24px\"viewBox=\"0 0 24 24\"\n",
              "       width=\"24px\">\n",
              "    <path d=\"M0 0h24v24H0V0z\" fill=\"none\"/>\n",
              "    <path d=\"M18.56 5.44l.94 2.06.94-2.06 2.06-.94-2.06-.94-.94-2.06-.94 2.06-2.06.94zm-11 1L8.5 8.5l.94-2.06 2.06-.94-2.06-.94L8.5 2.5l-.94 2.06-2.06.94zm10 10l.94 2.06.94-2.06 2.06-.94-2.06-.94-.94-2.06-.94 2.06-2.06.94z\"/><path d=\"M17.41 7.96l-1.37-1.37c-.4-.4-.92-.59-1.43-.59-.52 0-1.04.2-1.43.59L10.3 9.45l-7.72 7.72c-.78.78-.78 2.05 0 2.83L4 21.41c.39.39.9.59 1.41.59.51 0 1.02-.2 1.41-.59l7.78-7.78 2.81-2.81c.8-.78.8-2.07 0-2.86zM5.41 20L4 18.59l7.72-7.72 1.47 1.35L5.41 20z\"/>\n",
              "  </svg>\n",
              "      </button>\n",
              "      \n",
              "  <style>\n",
              "    .colab-df-container {\n",
              "      display:flex;\n",
              "      flex-wrap:wrap;\n",
              "      gap: 12px;\n",
              "    }\n",
              "\n",
              "    .colab-df-convert {\n",
              "      background-color: #E8F0FE;\n",
              "      border: none;\n",
              "      border-radius: 50%;\n",
              "      cursor: pointer;\n",
              "      display: none;\n",
              "      fill: #1967D2;\n",
              "      height: 32px;\n",
              "      padding: 0 0 0 0;\n",
              "      width: 32px;\n",
              "    }\n",
              "\n",
              "    .colab-df-convert:hover {\n",
              "      background-color: #E2EBFA;\n",
              "      box-shadow: 0px 1px 2px rgba(60, 64, 67, 0.3), 0px 1px 3px 1px rgba(60, 64, 67, 0.15);\n",
              "      fill: #174EA6;\n",
              "    }\n",
              "\n",
              "    [theme=dark] .colab-df-convert {\n",
              "      background-color: #3B4455;\n",
              "      fill: #D2E3FC;\n",
              "    }\n",
              "\n",
              "    [theme=dark] .colab-df-convert:hover {\n",
              "      background-color: #434B5C;\n",
              "      box-shadow: 0px 1px 3px 1px rgba(0, 0, 0, 0.15);\n",
              "      filter: drop-shadow(0px 1px 2px rgba(0, 0, 0, 0.3));\n",
              "      fill: #FFFFFF;\n",
              "    }\n",
              "  </style>\n",
              "\n",
              "      <script>\n",
              "        const buttonEl =\n",
              "          document.querySelector('#df-eaaa7cbb-1246-4590-8d53-b8e7f9a1f30f button.colab-df-convert');\n",
              "        buttonEl.style.display =\n",
              "          google.colab.kernel.accessAllowed ? 'block' : 'none';\n",
              "\n",
              "        async function convertToInteractive(key) {\n",
              "          const element = document.querySelector('#df-eaaa7cbb-1246-4590-8d53-b8e7f9a1f30f');\n",
              "          const dataTable =\n",
              "            await google.colab.kernel.invokeFunction('convertToInteractive',\n",
              "                                                     [key], {});\n",
              "          if (!dataTable) return;\n",
              "\n",
              "          const docLinkHtml = 'Like what you see? Visit the ' +\n",
              "            '<a target=\"_blank\" href=https://colab.research.google.com/notebooks/data_table.ipynb>data table notebook</a>'\n",
              "            + ' to learn more about interactive tables.';\n",
              "          element.innerHTML = '';\n",
              "          dataTable['output_type'] = 'display_data';\n",
              "          await google.colab.output.renderOutput(dataTable, element);\n",
              "          const docLink = document.createElement('div');\n",
              "          docLink.innerHTML = docLinkHtml;\n",
              "          element.appendChild(docLink);\n",
              "        }\n",
              "      </script>\n",
              "    </div>\n",
              "  </div>\n",
              "  "
            ]
          },
          "metadata": {},
          "execution_count": 28
        }
      ]
    },
    {
      "cell_type": "code",
      "source": [
        "from sklearn.preprocessing import PowerTransformer\n",
        "\n",
        "power_transformer = PowerTransformer(method='yeo-johnson')\n",
        "titanic_fare = power_transformer.fit_transform(titanic[['Fare']])"
      ],
      "metadata": {
        "id": "licnf6R1PtC0"
      },
      "execution_count": null,
      "outputs": []
    },
    {
      "cell_type": "code",
      "source": [
        "plot2graphs(titanic['Fare'], pd.DataFrame(titanic_fare, columns = power_transformer.feature_names_in_))\n"
      ],
      "metadata": {
        "colab": {
          "base_uri": "https://localhost:8080/",
          "height": 404
        },
        "id": "ieCB3dEEP7Rk",
        "outputId": "d0ef1ba8-fcef-4dba-b16c-1aab0e45c0ec"
      },
      "execution_count": null,
      "outputs": [
        {
          "output_type": "display_data",
          "data": {
            "text/plain": [
              "<Figure size 1008x432 with 2 Axes>"
            ],
            "image/png": "[encoded data removed]"
          },
          "metadata": {
            "needs_background": "light"
          }
        }
      ]
    },
    {
      "cell_type": "markdown",
      "source": [
        "### Feature Engineering"
      ],
      "metadata": {
        "id": "FZrhZHoUhmxt"
      }
    },
    {
      "cell_type": "code",
      "source": [
        "titanic['FareType'] = np.where(\n",
        "    titanic['Fare'] == 0,\n",
        "    'Free',\n",
        "    'Paid'\n",
        ")\n",
        "titanic['FareType'].value_counts()\n",
        "\n",
        "# hm, it's just 15 that are free, doesn't seem like it would have a big impact"
      ],
      "metadata": {
        "colab": {
          "base_uri": "https://localhost:8080/"
        },
        "id": "dxi0_VEoasfk",
        "outputId": "c4a0eaa5-890a-43ba-b067-d7953fd45f70"
      },
      "execution_count": null,
      "outputs": [
        {
          "output_type": "execute_result",
          "data": {
            "text/plain": [
              "Paid    699\n",
              "Free     13\n",
              "Name: FareType, dtype: int64"
            ]
          },
          "metadata": {},
          "execution_count": 31
        }
      ]
    },
    {
      "cell_type": "code",
      "source": [
        "# instead let's go back to my previous plan...\n",
        "\n",
        "# let's create a feature that checks for whether the person was alone, with a partner, or in a group"
      ],
      "metadata": {
        "id": "6Z-sqwDJba8l"
      },
      "execution_count": null,
      "outputs": []
    },
    {
      "cell_type": "code",
      "source": [
        "titanic['GroupCount'] = np.select(\n",
        "    condlist=[\n",
        "        titanic['Parch'] + titanic['SibSp'] == 0,\n",
        "        titanic['Parch'] + titanic['SibSp'] == 1,\n",
        "        titanic['Parch'] + titanic['SibSp'] > 1\n",
        "    ],\n",
        "    choicelist=['Alone', 'Couple', 'Group']\n",
        ")"
      ],
      "metadata": {
        "id": "NmMOm7Uvfynt"
      },
      "execution_count": null,
      "outputs": []
    },
    {
      "cell_type": "code",
      "source": [
        "titanic['GroupCount'].value_counts()"
      ],
      "metadata": {
        "colab": {
          "base_uri": "https://localhost:8080/"
        },
        "id": "5lUfz9nuhCL1",
        "outputId": "8d34c865-3b76-4def-8bf1-7b07200f7a10"
      },
      "execution_count": null,
      "outputs": [
        {
          "output_type": "execute_result",
          "data": {
            "text/plain": [
              "Alone     429\n",
              "Group     156\n",
              "Couple    127\n",
              "Name: GroupCount, dtype: int64"
            ]
          },
          "metadata": {},
          "execution_count": 34
        }
      ]
    },
    {
      "cell_type": "code",
      "source": [
        "from scipy.stats import chi2_contingency\n",
        "\n",
        "# Create a contingency table\n",
        "ctab = pd.crosstab(titanic_labels, titanic['GroupCount'])\n",
        "\n",
        "# Perform the chi-squared test\n",
        "chi2, p, dof, expected = chi2_contingency(ctab)\n",
        "\n",
        "# Print the results\n",
        "print(\"Chi-squared test statistic: \", chi2)\n",
        "print(\"p-value: \", p)"
      ],
      "metadata": {
        "colab": {
          "base_uri": "https://localhost:8080/"
        },
        "id": "082vYnb9hE-1",
        "outputId": "f3893df3-8bae-44f5-cb29-6d6e60883748"
      },
      "execution_count": null,
      "outputs": [
        {
          "output_type": "stream",
          "name": "stdout",
          "text": [
            "Chi-squared test statistic:  24.451006197039813\n",
            "p-value:  4.903785507705375e-06\n"
          ]
        }
      ]
    },
    {
      "cell_type": "code",
      "source": [
        "# the p-value is very small suggesting that there's a significant association between survival and the groupsize - it probably has to do with the pull to help others?"
      ],
      "metadata": {
        "id": "5iyt0aECh2o-"
      },
      "execution_count": null,
      "outputs": []
    },
    {
      "cell_type": "markdown",
      "source": [
        "### Transformation Pipelines"
      ],
      "metadata": {
        "id": "hFMRQqZFaPTE"
      }
    },
    {
      "cell_type": "code",
      "source": [
        "titanic['Cabin'].value_counts()\n",
        "# maybe split at letter and have that as a new feature\n",
        "# but it might be needed to drop altogether because it is rarely non-null"
      ],
      "metadata": {
        "colab": {
          "base_uri": "https://localhost:8080/"
        },
        "id": "JyOEANx6mwWp",
        "outputId": "40a99f2e-d5ee-43f8-d07c-9dda3c8fb927"
      },
      "execution_count": null,
      "outputs": [
        {
          "output_type": "execute_result",
          "data": {
            "text/plain": [
              "C23 C25 C27    4\n",
              "E101           3\n",
              "B96 B98        3\n",
              "C22 C26        3\n",
              "G6             3\n",
              "              ..\n",
              "C104           1\n",
              "D11            1\n",
              "C86            1\n",
              "C7             1\n",
              "C62 C64        1\n",
              "Name: Cabin, Length: 117, dtype: int64"
            ]
          },
          "metadata": {},
          "execution_count": 37
        }
      ]
    },
    {
      "cell_type": "markdown",
      "source": [
        "##### Plan Recap\n",
        "So far I've got the following preprocessing steps:\n",
        "\n",
        "- Numerical\n",
        "  - Fare = median imputing, power tranformation using yeo-johnson\n",
        "  - Age = median imputing, no transformations\n",
        "\n",
        "- Categorical (provided) = 1hot encoder\n",
        "  - Sex\n",
        "  - Class\n",
        "  - Parch\n",
        "  - SibSp\n",
        "\n",
        "- Discarded\n",
        "  - PassengerId\n",
        "  - Name\n",
        "  - Ticket\n",
        "  - Embarked\n",
        "\n",
        "- Categorical (feature engineered)\n",
        "  - Parch/SibSp -> Alone,Couple,Group\n",
        "  - Cabin -> A,B,C"
      ],
      "metadata": {
        "id": "mZXblbLsTCVe"
      }
    },
    {
      "cell_type": "code",
      "source": [
        "# fixes SimpleImputer not having get_feature_names_out\n",
        "SimpleImputer.get_feature_names_out = (lambda self, names=None: self.feature_names_in_)"
      ],
      "metadata": {
        "id": "15wyJS-3Zj7e"
      },
      "execution_count": null,
      "outputs": []
    },
    {
      "cell_type": "code",
      "source": [
        "# let's create a custom transformer to create a new category from given feature\n",
        "from sklearn.base import BaseEstimator, TransformerMixin\n",
        "from sklearn.utils.validation import check_array, check_is_fitted\n",
        "\n",
        "class NumpySelectTransformer(BaseEstimator, TransformerMixin):\n",
        "  def __init__(self, n_persons):\n",
        "    self.n_persons = n_persons\n",
        "  \n",
        "  def fit(self, X, y=None): # y is required, even though it is not used. Why?\n",
        "    self.n_features_in_ = X.shape[1] # how many features in\n",
        "    if hasattr(X, 'columns'):\n",
        "      self.feature_names_in = np.array(X.columns)\n",
        "    return self\n",
        "\n",
        "  def transform(self, X):\n",
        "    tempArray = X.iloc[:,0] + X.iloc[:,1]\n",
        "\n",
        "    conditions = [tempArray == 0, tempArray == 1, tempArray > 1]\n",
        "\n",
        "    # X['newColumn'] = np.select( conditions, self.n_persons, default=0 ) # this is 1D, not 2D?...\n",
        "\n",
        "    return np.select( conditions, self.n_persons, default=0 ).reshape(-1, 1) # transposes resulting feature vector\n",
        "\n",
        "  # def get_feature_names_out(self, input_features=None):\n",
        "  #   return 'GroupType'"
      ],
      "metadata": {
        "id": "I6Z6Saio-Kf0"
      },
      "execution_count": null,
      "outputs": []
    },
    {
      "cell_type": "code",
      "source": [
        "# define preprocessing pipelines\n",
        "from sklearn.pipeline import make_pipeline\n",
        "\n",
        "num_pipeline = make_pipeline(\n",
        "    SimpleImputer(strategy='median'),\n",
        "    PowerTransformer(method='yeo-johnson')\n",
        ")\n",
        "\n",
        "cat_pipeline = make_pipeline(\n",
        "    SimpleImputer(strategy='most_frequent'),\n",
        "    OneHotEncoder(handle_unknown='ignore')\n",
        ")\n",
        "\n",
        "grouping_pipeline = make_pipeline(\n",
        "    NumpySelectTransformer(n_persons=['Alone', 'Couple', 'Group']),\n",
        "    OneHotEncoder(handle_unknown='ignore')\n",
        ")"
      ],
      "metadata": {
        "id": "IrEvJ-sGUtwV"
      },
      "execution_count": null,
      "outputs": []
    },
    {
      "cell_type": "code",
      "source": [
        "from sklearn.compose import ColumnTransformer\n",
        "\n",
        "preprocessing = ColumnTransformer([\n",
        "    ('num', num_pipeline, ['Fare','Age']),\n",
        "    # ('grouping', grouping_pipeline, ['SibSp', 'Parch']),\n",
        "    ('cat', cat_pipeline, ['Sex', 'Pclass', 'Parch', 'SibSp'])\n",
        "], remainder='drop')"
      ],
      "metadata": {
        "id": "QeyTZlM9Vzlv"
      },
      "execution_count": null,
      "outputs": []
    },
    {
      "cell_type": "code",
      "source": [
        "titanic_prepared = preprocessing.fit_transform( titanic )"
      ],
      "metadata": {
        "id": "E9V3MefjWsBH"
      },
      "execution_count": null,
      "outputs": []
    },
    {
      "cell_type": "code",
      "source": [
        "df_titanic_prepared = pd.DataFrame.sparse.from_spmatrix(titanic_prepared, columns=preprocessing.get_feature_names_out(), index=titanic.index)"
      ],
      "metadata": {
        "id": "UULm-JFuXzS2"
      },
      "execution_count": null,
      "outputs": []
    },
    {
      "cell_type": "code",
      "source": [
        "df_titanic_prepared"
      ],
      "metadata": {
        "colab": {
          "base_uri": "https://localhost:8080/",
          "height": 488
        },
        "id": "Oy9hViIuYOUt",
        "outputId": "b448781f-099b-48b6-cc7c-b3084422a6c0"
      },
      "execution_count": null,
      "outputs": [
        {
          "output_type": "execute_result",
          "data": {
            "text/plain": [
              "     num__Fare  num__Age  cat__Sex_female  cat__Sex_male  cat__Pclass_1  \\\n",
              "331   0.479998  1.226568              0.0            1.0            1.0   \n",
              "733  -0.283753 -0.436357              0.0            1.0            0.0   \n",
              "382  -0.772447  0.252746              0.0            1.0            0.0   \n",
              "704  -0.781285 -0.202199              0.0            1.0            0.0   \n",
              "813   0.568460 -1.904527              1.0            0.0            0.0   \n",
              "..         ...       ...              ...            ...            ...   \n",
              "106  -0.807217 -0.595373              1.0            0.0            0.0   \n",
              "270   0.560073 -0.048707              0.0            1.0            1.0   \n",
              "860  -0.203135  0.908453              0.0            1.0            0.0   \n",
              "435   1.783869 -1.174832              1.0            0.0            1.0   \n",
              "102   1.400436 -0.595373              0.0            1.0            1.0   \n",
              "\n",
              "     cat__Pclass_2  cat__Pclass_3  cat__Parch_0  cat__Parch_1  cat__Parch_2  \\\n",
              "331            0.0            0.0           1.0           0.0           0.0   \n",
              "733            1.0            0.0           1.0           0.0           0.0   \n",
              "382            0.0            1.0           1.0           0.0           0.0   \n",
              "704            0.0            1.0           1.0           0.0           0.0   \n",
              "813            0.0            1.0           0.0           0.0           1.0   \n",
              "..             ...            ...           ...           ...           ...   \n",
              "106            0.0            1.0           1.0           0.0           0.0   \n",
              "270            0.0            0.0           1.0           0.0           0.0   \n",
              "860            0.0            1.0           1.0           0.0           0.0   \n",
              "435            0.0            0.0           0.0           0.0           1.0   \n",
              "102            0.0            0.0           0.0           1.0           0.0   \n",
              "\n",
              "     ...  cat__Parch_4  cat__Parch_5  cat__Parch_6  cat__SibSp_0  \\\n",
              "331  ...           0.0           0.0           0.0           1.0   \n",
              "733  ...           0.0           0.0           0.0           1.0   \n",
              "382  ...           0.0           0.0           0.0           1.0   \n",
              "704  ...           0.0           0.0           0.0           0.0   \n",
              "813  ...           0.0           0.0           0.0           0.0   \n",
              "..   ...           ...           ...           ...           ...   \n",
              "106  ...           0.0           0.0           0.0           1.0   \n",
              "270  ...           0.0           0.0           0.0           1.0   \n",
              "860  ...           0.0           0.0           0.0           0.0   \n",
              "435  ...           0.0           0.0           0.0           0.0   \n",
              "102  ...           0.0           0.0           0.0           1.0   \n",
              "\n",
              "     cat__SibSp_1  cat__SibSp_2  cat__SibSp_3  cat__SibSp_4  cat__SibSp_5  \\\n",
              "331           0.0           0.0           0.0           0.0           0.0   \n",
              "733           0.0           0.0           0.0           0.0           0.0   \n",
              "382           0.0           0.0           0.0           0.0           0.0   \n",
              "704           1.0           0.0           0.0           0.0           0.0   \n",
              "813           0.0           0.0           0.0           1.0           0.0   \n",
              "..            ...           ...           ...           ...           ...   \n",
              "106           0.0           0.0           0.0           0.0           0.0   \n",
              "270           0.0           0.0           0.0           0.0           0.0   \n",
              "860           0.0           1.0           0.0           0.0           0.0   \n",
              "435           1.0           0.0           0.0           0.0           0.0   \n",
              "102           0.0           0.0           0.0           0.0           0.0   \n",
              "\n",
              "     cat__SibSp_8  \n",
              "331           0.0  \n",
              "733           0.0  \n",
              "382           0.0  \n",
              "704           0.0  \n",
              "813           0.0  \n",
              "..            ...  \n",
              "106           0.0  \n",
              "270           0.0  \n",
              "860           0.0  \n",
              "435           0.0  \n",
              "102           0.0  \n",
              "\n",
              "[712 rows x 21 columns]"
            ],
            "text/html": [
              "\n",
              "  <div id=\"df-ab89ac7e-e703-4867-b459-28db30a77523\">\n",
              "    <div class=\"colab-df-container\">\n",
              "      <div>\n",
              "<style scoped>\n",
              "    .dataframe tbody tr th:only-of-type {\n",
              "        vertical-align: middle;\n",
              "    }\n",
              "\n",
              "    .dataframe tbody tr th {\n",
              "        vertical-align: top;\n",
              "    }\n",
              "\n",
              "    .dataframe thead th {\n",
              "        text-align: right;\n",
              "    }\n",
              "</style>\n",
              "<table border=\"1\" class=\"dataframe\">\n",
              "  <thead>\n",
              "    <tr style=\"text-align: right;\">\n",
              "      <th></th>\n",
              "      <th>num__Fare</th>\n",
              "      <th>num__Age</th>\n",
              "      <th>cat__Sex_female</th>\n",
              "      <th>cat__Sex_male</th>\n",
              "      <th>cat__Pclass_1</th>\n",
              "      <th>cat__Pclass_2</th>\n",
              "      <th>cat__Pclass_3</th>\n",
              "      <th>cat__Parch_0</th>\n",
              "      <th>cat__Parch_1</th>\n",
              "      <th>cat__Parch_2</th>\n",
              "      <th>...</th>\n",
              "      <th>cat__Parch_4</th>\n",
              "      <th>cat__Parch_5</th>\n",
              "      <th>cat__Parch_6</th>\n",
              "      <th>cat__SibSp_0</th>\n",
              "      <th>cat__SibSp_1</th>\n",
              "      <th>cat__SibSp_2</th>\n",
              "      <th>cat__SibSp_3</th>\n",
              "      <th>cat__SibSp_4</th>\n",
              "      <th>cat__SibSp_5</th>\n",
              "      <th>cat__SibSp_8</th>\n",
              "    </tr>\n",
              "  </thead>\n",
              "  <tbody>\n",
              "    <tr>\n",
              "      <th>331</th>\n",
              "      <td>0.479998</td>\n",
              "      <td>1.226568</td>\n",
              "      <td>0.0</td>\n",
              "      <td>1.0</td>\n",
              "      <td>1.0</td>\n",
              "      <td>0.0</td>\n",
              "      <td>0.0</td>\n",
              "      <td>1.0</td>\n",
              "      <td>0.0</td>\n",
              "      <td>0.0</td>\n",
              "      <td>...</td>\n",
              "      <td>0.0</td>\n",
              "      <td>0.0</td>\n",
              "      <td>0.0</td>\n",
              "      <td>1.0</td>\n",
              "      <td>0.0</td>\n",
              "      <td>0.0</td>\n",
              "      <td>0.0</td>\n",
              "      <td>0.0</td>\n",
              "      <td>0.0</td>\n",
              "      <td>0.0</td>\n",
              "    </tr>\n",
              "    <tr>\n",
              "      <th>733</th>\n",
              "      <td>-0.283753</td>\n",
              "      <td>-0.436357</td>\n",
              "      <td>0.0</td>\n",
              "      <td>1.0</td>\n",
              "      <td>0.0</td>\n",
              "      <td>1.0</td>\n",
              "      <td>0.0</td>\n",
              "      <td>1.0</td>\n",
              "      <td>0.0</td>\n",
              "      <td>0.0</td>\n",
              "      <td>...</td>\n",
              "      <td>0.0</td>\n",
              "      <td>0.0</td>\n",
              "      <td>0.0</td>\n",
              "      <td>1.0</td>\n",
              "      <td>0.0</td>\n",
              "      <td>0.0</td>\n",
              "      <td>0.0</td>\n",
              "      <td>0.0</td>\n",
              "      <td>0.0</td>\n",
              "      <td>0.0</td>\n",
              "    </tr>\n",
              "    <tr>\n",
              "      <th>382</th>\n",
              "      <td>-0.772447</td>\n",
              "      <td>0.252746</td>\n",
              "      <td>0.0</td>\n",
              "      <td>1.0</td>\n",
              "      <td>0.0</td>\n",
              "      <td>0.0</td>\n",
              "      <td>1.0</td>\n",
              "      <td>1.0</td>\n",
              "      <td>0.0</td>\n",
              "      <td>0.0</td>\n",
              "      <td>...</td>\n",
              "      <td>0.0</td>\n",
              "      <td>0.0</td>\n",
              "      <td>0.0</td>\n",
              "      <td>1.0</td>\n",
              "      <td>0.0</td>\n",
              "      <td>0.0</td>\n",
              "      <td>0.0</td>\n",
              "      <td>0.0</td>\n",
              "      <td>0.0</td>\n",
              "      <td>0.0</td>\n",
              "    </tr>\n",
              "    <tr>\n",
              "      <th>704</th>\n",
              "      <td>-0.781285</td>\n",
              "      <td>-0.202199</td>\n",
              "      <td>0.0</td>\n",
              "      <td>1.0</td>\n",
              "      <td>0.0</td>\n",
              "      <td>0.0</td>\n",
              "      <td>1.0</td>\n",
              "      <td>1.0</td>\n",
              "      <td>0.0</td>\n",
              "      <td>0.0</td>\n",
              "      <td>...</td>\n",
              "      <td>0.0</td>\n",
              "      <td>0.0</td>\n",
              "      <td>0.0</td>\n",
              "      <td>0.0</td>\n",
              "      <td>1.0</td>\n",
              "      <td>0.0</td>\n",
              "      <td>0.0</td>\n",
              "      <td>0.0</td>\n",
              "      <td>0.0</td>\n",
              "      <td>0.0</td>\n",
              "    </tr>\n",
              "    <tr>\n",
              "      <th>813</th>\n",
              "      <td>0.568460</td>\n",
              "      <td>-1.904527</td>\n",
              "      <td>1.0</td>\n",
              "      <td>0.0</td>\n",
              "      <td>0.0</td>\n",
              "      <td>0.0</td>\n",
              "      <td>1.0</td>\n",
              "      <td>0.0</td>\n",
              "      <td>0.0</td>\n",
              "      <td>1.0</td>\n",
              "      <td>...</td>\n",
              "      <td>0.0</td>\n",
              "      <td>0.0</td>\n",
              "      <td>0.0</td>\n",
              "      <td>0.0</td>\n",
              "      <td>0.0</td>\n",
              "      <td>0.0</td>\n",
              "      <td>0.0</td>\n",
              "      <td>1.0</td>\n",
              "      <td>0.0</td>\n",
              "      <td>0.0</td>\n",
              "    </tr>\n",
              "    <tr>\n",
              "      <th>...</th>\n",
              "      <td>...</td>\n",
              "      <td>...</td>\n",
              "      <td>...</td>\n",
              "      <td>...</td>\n",
              "      <td>...</td>\n",
              "      <td>...</td>\n",
              "      <td>...</td>\n",
              "      <td>...</td>\n",
              "      <td>...</td>\n",
              "      <td>...</td>\n",
              "      <td>...</td>\n",
              "      <td>...</td>\n",
              "      <td>...</td>\n",
              "      <td>...</td>\n",
              "      <td>...</td>\n",
              "      <td>...</td>\n",
              "      <td>...</td>\n",
              "      <td>...</td>\n",
              "      <td>...</td>\n",
              "      <td>...</td>\n",
              "      <td>...</td>\n",
              "    </tr>\n",
              "    <tr>\n",
              "      <th>106</th>\n",
              "      <td>-0.807217</td>\n",
              "      <td>-0.595373</td>\n",
              "      <td>1.0</td>\n",
              "      <td>0.0</td>\n",
              "      <td>0.0</td>\n",
              "      <td>0.0</td>\n",
              "      <td>1.0</td>\n",
              "      <td>1.0</td>\n",
              "      <td>0.0</td>\n",
              "      <td>0.0</td>\n",
              "      <td>...</td>\n",
              "      <td>0.0</td>\n",
              "      <td>0.0</td>\n",
              "      <td>0.0</td>\n",
              "      <td>1.0</td>\n",
              "      <td>0.0</td>\n",
              "      <td>0.0</td>\n",
              "      <td>0.0</td>\n",
              "      <td>0.0</td>\n",
              "      <td>0.0</td>\n",
              "      <td>0.0</td>\n",
              "    </tr>\n",
              "    <tr>\n",
              "      <th>270</th>\n",
              "      <td>0.560073</td>\n",
              "      <td>-0.048707</td>\n",
              "      <td>0.0</td>\n",
              "      <td>1.0</td>\n",
              "      <td>1.0</td>\n",
              "      <td>0.0</td>\n",
              "      <td>0.0</td>\n",
              "      <td>1.0</td>\n",
              "      <td>0.0</td>\n",
              "      <td>0.0</td>\n",
              "      <td>...</td>\n",
              "      <td>0.0</td>\n",
              "      <td>0.0</td>\n",
              "      <td>0.0</td>\n",
              "      <td>1.0</td>\n",
              "      <td>0.0</td>\n",
              "      <td>0.0</td>\n",
              "      <td>0.0</td>\n",
              "      <td>0.0</td>\n",
              "      <td>0.0</td>\n",
              "      <td>0.0</td>\n",
              "    </tr>\n",
              "    <tr>\n",
              "      <th>860</th>\n",
              "      <td>-0.203135</td>\n",
              "      <td>0.908453</td>\n",
              "      <td>0.0</td>\n",
              "      <td>1.0</td>\n",
              "      <td>0.0</td>\n",
              "      <td>0.0</td>\n",
              "      <td>1.0</td>\n",
              "      <td>1.0</td>\n",
              "      <td>0.0</td>\n",
              "      <td>0.0</td>\n",
              "      <td>...</td>\n",
              "      <td>0.0</td>\n",
              "      <td>0.0</td>\n",
              "      <td>0.0</td>\n",
              "      <td>0.0</td>\n",
              "      <td>0.0</td>\n",
              "      <td>1.0</td>\n",
              "      <td>0.0</td>\n",
              "      <td>0.0</td>\n",
              "      <td>0.0</td>\n",
              "      <td>0.0</td>\n",
              "    </tr>\n",
              "    <tr>\n",
              "      <th>435</th>\n",
              "      <td>1.783869</td>\n",
              "      <td>-1.174832</td>\n",
              "      <td>1.0</td>\n",
              "      <td>0.0</td>\n",
              "      <td>1.0</td>\n",
              "      <td>0.0</td>\n",
              "      <td>0.0</td>\n",
              "      <td>0.0</td>\n",
              "      <td>0.0</td>\n",
              "      <td>1.0</td>\n",
              "      <td>...</td>\n",
              "      <td>0.0</td>\n",
              "      <td>0.0</td>\n",
              "      <td>0.0</td>\n",
              "      <td>0.0</td>\n",
              "      <td>1.0</td>\n",
              "      <td>0.0</td>\n",
              "      <td>0.0</td>\n",
              "      <td>0.0</td>\n",
              "      <td>0.0</td>\n",
              "      <td>0.0</td>\n",
              "    </tr>\n",
              "    <tr>\n",
              "      <th>102</th>\n",
              "      <td>1.400436</td>\n",
              "      <td>-0.595373</td>\n",
              "      <td>0.0</td>\n",
              "      <td>1.0</td>\n",
              "      <td>1.0</td>\n",
              "      <td>0.0</td>\n",
              "      <td>0.0</td>\n",
              "      <td>0.0</td>\n",
              "      <td>1.0</td>\n",
              "      <td>0.0</td>\n",
              "      <td>...</td>\n",
              "      <td>0.0</td>\n",
              "      <td>0.0</td>\n",
              "      <td>0.0</td>\n",
              "      <td>1.0</td>\n",
              "      <td>0.0</td>\n",
              "      <td>0.0</td>\n",
              "      <td>0.0</td>\n",
              "      <td>0.0</td>\n",
              "      <td>0.0</td>\n",
              "      <td>0.0</td>\n",
              "    </tr>\n",
              "  </tbody>\n",
              "</table>\n",
              "<p>712 rows × 21 columns</p>\n",
              "</div>\n",
              "      <button class=\"colab-df-convert\" onclick=\"convertToInteractive('df-ab89ac7e-e703-4867-b459-28db30a77523')\"\n",
              "              title=\"Convert this dataframe to an interactive table.\"\n",
              "              style=\"display:none;\">\n",
              "        \n",
              "  <svg xmlns=\"http://www.w3.org/2000/svg\" height=\"24px\"viewBox=\"0 0 24 24\"\n",
              "       width=\"24px\">\n",
              "    <path d=\"M0 0h24v24H0V0z\" fill=\"none\"/>\n",
              "    <path d=\"M18.56 5.44l.94 2.06.94-2.06 2.06-.94-2.06-.94-.94-2.06-.94 2.06-2.06.94zm-11 1L8.5 8.5l.94-2.06 2.06-.94-2.06-.94L8.5 2.5l-.94 2.06-2.06.94zm10 10l.94 2.06.94-2.06 2.06-.94-2.06-.94-.94-2.06-.94 2.06-2.06.94z\"/><path d=\"M17.41 7.96l-1.37-1.37c-.4-.4-.92-.59-1.43-.59-.52 0-1.04.2-1.43.59L10.3 9.45l-7.72 7.72c-.78.78-.78 2.05 0 2.83L4 21.41c.39.39.9.59 1.41.59.51 0 1.02-.2 1.41-.59l7.78-7.78 2.81-2.81c.8-.78.8-2.07 0-2.86zM5.41 20L4 18.59l7.72-7.72 1.47 1.35L5.41 20z\"/>\n",
              "  </svg>\n",
              "      </button>\n",
              "      \n",
              "  <style>\n",
              "    .colab-df-container {\n",
              "      display:flex;\n",
              "      flex-wrap:wrap;\n",
              "      gap: 12px;\n",
              "    }\n",
              "\n",
              "    .colab-df-convert {\n",
              "      background-color: #E8F0FE;\n",
              "      border: none;\n",
              "      border-radius: 50%;\n",
              "      cursor: pointer;\n",
              "      display: none;\n",
              "      fill: #1967D2;\n",
              "      height: 32px;\n",
              "      padding: 0 0 0 0;\n",
              "      width: 32px;\n",
              "    }\n",
              "\n",
              "    .colab-df-convert:hover {\n",
              "      background-color: #E2EBFA;\n",
              "      box-shadow: 0px 1px 2px rgba(60, 64, 67, 0.3), 0px 1px 3px 1px rgba(60, 64, 67, 0.15);\n",
              "      fill: #174EA6;\n",
              "    }\n",
              "\n",
              "    [theme=dark] .colab-df-convert {\n",
              "      background-color: #3B4455;\n",
              "      fill: #D2E3FC;\n",
              "    }\n",
              "\n",
              "    [theme=dark] .colab-df-convert:hover {\n",
              "      background-color: #434B5C;\n",
              "      box-shadow: 0px 1px 3px 1px rgba(0, 0, 0, 0.15);\n",
              "      filter: drop-shadow(0px 1px 2px rgba(0, 0, 0, 0.3));\n",
              "      fill: #FFFFFF;\n",
              "    }\n",
              "  </style>\n",
              "\n",
              "      <script>\n",
              "        const buttonEl =\n",
              "          document.querySelector('#df-ab89ac7e-e703-4867-b459-28db30a77523 button.colab-df-convert');\n",
              "        buttonEl.style.display =\n",
              "          google.colab.kernel.accessAllowed ? 'block' : 'none';\n",
              "\n",
              "        async function convertToInteractive(key) {\n",
              "          const element = document.querySelector('#df-ab89ac7e-e703-4867-b459-28db30a77523');\n",
              "          const dataTable =\n",
              "            await google.colab.kernel.invokeFunction('convertToInteractive',\n",
              "                                                     [key], {});\n",
              "          if (!dataTable) return;\n",
              "\n",
              "          const docLinkHtml = 'Like what you see? Visit the ' +\n",
              "            '<a target=\"_blank\" href=https://colab.research.google.com/notebooks/data_table.ipynb>data table notebook</a>'\n",
              "            + ' to learn more about interactive tables.';\n",
              "          element.innerHTML = '';\n",
              "          dataTable['output_type'] = 'display_data';\n",
              "          await google.colab.output.renderOutput(dataTable, element);\n",
              "          const docLink = document.createElement('div');\n",
              "          docLink.innerHTML = docLinkHtml;\n",
              "          element.appendChild(docLink);\n",
              "        }\n",
              "      </script>\n",
              "    </div>\n",
              "  </div>\n",
              "  "
            ]
          },
          "metadata": {},
          "execution_count": 44
        }
      ]
    },
    {
      "cell_type": "code",
      "source": [
        "# F yeah! This works smoothly.\n",
        "# Now we can start testing different models."
      ],
      "metadata": {
        "id": "0ZreFeBIafIR"
      },
      "execution_count": null,
      "outputs": []
    },
    {
      "cell_type": "code",
      "source": [
        "df_titanic_prepared.columns"
      ],
      "metadata": {
        "colab": {
          "base_uri": "https://localhost:8080/"
        },
        "id": "DnP2oetvjWrW",
        "outputId": "4d74279b-499f-46cb-e7c3-e8a69b923c86"
      },
      "execution_count": null,
      "outputs": [
        {
          "output_type": "execute_result",
          "data": {
            "text/plain": [
              "Index(['num__Fare', 'num__Age', 'cat__Sex_female', 'cat__Sex_male',\n",
              "       'cat__Pclass_1', 'cat__Pclass_2', 'cat__Pclass_3', 'cat__Parch_0',\n",
              "       'cat__Parch_1', 'cat__Parch_2', 'cat__Parch_3', 'cat__Parch_4',\n",
              "       'cat__Parch_5', 'cat__Parch_6', 'cat__SibSp_0', 'cat__SibSp_1',\n",
              "       'cat__SibSp_2', 'cat__SibSp_3', 'cat__SibSp_4', 'cat__SibSp_5',\n",
              "       'cat__SibSp_8'],\n",
              "      dtype='object')"
            ]
          },
          "metadata": {},
          "execution_count": 46
        }
      ]
    },
    {
      "cell_type": "markdown",
      "source": [
        "## Select and Train the Model"
      ],
      "metadata": {
        "id": "ot_ytquJkRx-"
      }
    },
    {
      "cell_type": "markdown",
      "source": [
        "Let's list some of the models that can be helpful:\n",
        "- Logistic Regression\n",
        "- Support Vector Machines\n",
        "- Decision Tree Learning\n",
        "- KNN\n",
        "- Stochastic Gradient Descent (SGD)"
      ],
      "metadata": {
        "id": "sGMzGiY3wMGP"
      }
    },
    {
      "cell_type": "markdown",
      "source": [
        "### SGD"
      ],
      "metadata": {
        "id": "WC6oN17y4AQJ"
      }
    },
    {
      "cell_type": "code",
      "source": [
        "from sklearn.linear_model import SGDClassifier # importing binary classifier\n",
        "\n",
        "sgd_clf = SGDClassifier(random_state=42)\n",
        "sgd_clf.fit(df_titanic_prepared, titanic_labels)"
      ],
      "metadata": {
        "colab": {
          "base_uri": "https://localhost:8080/"
        },
        "id": "U4t4Xgbew3ZT",
        "outputId": "6687d8a9-8eb0-4406-f4d4-dfb660a4ddbd"
      },
      "execution_count": null,
      "outputs": [
        {
          "output_type": "execute_result",
          "data": {
            "text/plain": [
              "SGDClassifier(random_state=42)"
            ]
          },
          "metadata": {},
          "execution_count": 47
        }
      ]
    },
    {
      "cell_type": "code",
      "source": [
        "sgd_clf.predict(df_titanic_prepared)[:1]"
      ],
      "metadata": {
        "colab": {
          "base_uri": "https://localhost:8080/"
        },
        "id": "UoLPMrt7yAfj",
        "outputId": "80e1edad-0bee-4495-db3d-5df7ec711895"
      },
      "execution_count": null,
      "outputs": [
        {
          "output_type": "execute_result",
          "data": {
            "text/plain": [
              "array([0])"
            ]
          },
          "metadata": {},
          "execution_count": 48
        }
      ]
    },
    {
      "cell_type": "code",
      "source": [
        "titanic_labels[:1]"
      ],
      "metadata": {
        "colab": {
          "base_uri": "https://localhost:8080/"
        },
        "id": "qDjCs5k2zYsC",
        "outputId": "a08a1824-03d1-4979-e5e7-cf3b834342d0"
      },
      "execution_count": null,
      "outputs": [
        {
          "output_type": "execute_result",
          "data": {
            "text/plain": [
              "331    0\n",
              "Name: Survived, dtype: int64"
            ]
          },
          "metadata": {},
          "execution_count": 49
        }
      ]
    },
    {
      "cell_type": "code",
      "source": [
        "from sklearn.model_selection import cross_val_score\n",
        "\n",
        "# using cross-validation we split the training set into 3 folds and evaluate it\n",
        "cross_val_score(sgd_clf, df_titanic_prepared, titanic_labels, cv=3, scoring='accuracy')\n",
        "\n",
        "# not bad for the first try\n",
        "# let's check confusion matrices"
      ],
      "metadata": {
        "colab": {
          "base_uri": "https://localhost:8080/"
        },
        "id": "A9Vrk2anzin0",
        "outputId": "45b3e789-b078-4927-a02f-851425bc4ce7"
      },
      "execution_count": null,
      "outputs": [
        {
          "output_type": "execute_result",
          "data": {
            "text/plain": [
              "array([0.77731092, 0.78902954, 0.67088608])"
            ]
          },
          "metadata": {},
          "execution_count": 50
        }
      ]
    },
    {
      "cell_type": "code",
      "source": [
        "from sklearn.model_selection import cross_val_predict\n",
        "\n",
        "titanic_labels_pred = cross_val_predict(sgd_clf, df_titanic_prepared, titanic_labels, cv=3)"
      ],
      "metadata": {
        "id": "H3HHVcqk0Z5A"
      },
      "execution_count": null,
      "outputs": []
    },
    {
      "cell_type": "code",
      "source": [
        "from sklearn.metrics import confusion_matrix\n",
        "\n",
        "cm = confusion_matrix(titanic_labels, titanic_labels_pred)\n",
        "cm\n",
        "\n",
        "# 383 individuals were correctly classified as perished (true negatives)\n",
        "# remaining 61 were wrongly classified as survived (false positives)\n",
        "# 120 people were wrongly classified as perished (false negatives)\n",
        "# remaining 148 people were correctly classified as survivors (true positives)"
      ],
      "metadata": {
        "colab": {
          "base_uri": "https://localhost:8080/"
        },
        "id": "NPLeD8mA00N6",
        "outputId": "c4a7f030-64f9-4cbb-e919-25c397c48673"
      },
      "execution_count": null,
      "outputs": [
        {
          "output_type": "execute_result",
          "data": {
            "text/plain": [
              "array([[383,  61],\n",
              "       [120, 148]])"
            ]
          },
          "metadata": {},
          "execution_count": 52
        }
      ]
    },
    {
      "cell_type": "markdown",
      "source": [
        "### KNN"
      ],
      "metadata": {
        "id": "9Rt_2moO4Dky"
      }
    },
    {
      "cell_type": "code",
      "source": [
        "from sklearn.cluster import KMeans\n",
        "\n",
        "knn_clf = KMeans(n_clusters=2, random_state=42)\n",
        "knn_clf.fit(df_titanic_prepared, titanic_labels)"
      ],
      "metadata": {
        "colab": {
          "base_uri": "https://localhost:8080/"
        },
        "id": "HdNmR4vk2XEn",
        "outputId": "fe502230-3db3-47f2-d0b8-07b5211f001b"
      },
      "execution_count": null,
      "outputs": [
        {
          "output_type": "execute_result",
          "data": {
            "text/plain": [
              "KMeans(n_clusters=2, random_state=42)"
            ]
          },
          "metadata": {},
          "execution_count": 53
        }
      ]
    },
    {
      "cell_type": "code",
      "source": [
        "from sklearn.model_selection import cross_val_score\n",
        "\n",
        "# using cross-validation we split the training set into 3 folds and evaluate it\n",
        "cross_val_score(knn_clf, df_titanic_prepared, titanic_labels, cv=3, scoring='accuracy')\n",
        "\n",
        "# not bad for the first try\n",
        "# let's check confusion matrices"
      ],
      "metadata": {
        "colab": {
          "base_uri": "https://localhost:8080/"
        },
        "id": "QAOh7wQ24WSk",
        "outputId": "4bf4d37a-b7d0-4537-c624-217c0729233e"
      },
      "execution_count": null,
      "outputs": [
        {
          "output_type": "execute_result",
          "data": {
            "text/plain": [
              "array([0.68907563, 0.61603376, 0.65822785])"
            ]
          },
          "metadata": {},
          "execution_count": 54
        }
      ]
    },
    {
      "cell_type": "code",
      "source": [
        "from sklearn.model_selection import cross_val_predict\n",
        "\n",
        "titanic_labels_pred = cross_val_predict(knn_clf, df_titanic_prepared, titanic_labels, cv=3)"
      ],
      "metadata": {
        "id": "2fLI9qUF440b"
      },
      "execution_count": null,
      "outputs": []
    },
    {
      "cell_type": "code",
      "source": [
        "from sklearn.metrics import confusion_matrix\n",
        "\n",
        "cm = confusion_matrix(titanic_labels, titanic_labels_pred)\n",
        "cm\n",
        "\n",
        "# slightly worse than SGD"
      ],
      "metadata": {
        "colab": {
          "base_uri": "https://localhost:8080/"
        },
        "id": "ZwgQRHp54_IT",
        "outputId": "c9da94d9-3a80-4de1-f3bc-9e8ab0212efe"
      },
      "execution_count": null,
      "outputs": [
        {
          "output_type": "execute_result",
          "data": {
            "text/plain": [
              "array([[327, 117],\n",
              "       [129, 139]])"
            ]
          },
          "metadata": {},
          "execution_count": 56
        }
      ]
    },
    {
      "cell_type": "markdown",
      "source": [
        "### Decision Tree Learning"
      ],
      "metadata": {
        "id": "7TvR3VGn5Kke"
      }
    },
    {
      "cell_type": "code",
      "source": [
        "from sklearn.tree import DecisionTreeClassifier\n",
        "\n",
        "tree_clf = DecisionTreeClassifier(criterion='entropy', random_state=42)\n",
        "tree_clf.fit(df_titanic_prepared, titanic_labels)\n",
        "\n",
        "cross_val_score(tree_clf, df_titanic_prepared, titanic_labels, cv=3, scoring='accuracy')\n",
        "\n",
        "# ooh, looks more consistent than SGD"
      ],
      "metadata": {
        "colab": {
          "base_uri": "https://localhost:8080/"
        },
        "id": "GUCKRREA5JlG",
        "outputId": "c449c952-552a-465d-92ac-d0cd4955b823"
      },
      "execution_count": null,
      "outputs": [
        {
          "output_type": "execute_result",
          "data": {
            "text/plain": [
              "array([0.76890756, 0.75949367, 0.76793249])"
            ]
          },
          "metadata": {},
          "execution_count": 57
        }
      ]
    },
    {
      "cell_type": "code",
      "source": [
        "titanic_labels_pred = cross_val_predict(tree_clf, df_titanic_prepared, titanic_labels, cv=3)\n",
        "\n",
        "confusion_matrix(titanic_labels, titanic_labels_pred)\n",
        "\n",
        "# OOH much better, very nice"
      ],
      "metadata": {
        "colab": {
          "base_uri": "https://localhost:8080/"
        },
        "id": "iZr-P0R95z0s",
        "outputId": "1344c7b2-2d44-4796-d7c4-a9af34221537"
      },
      "execution_count": null,
      "outputs": [
        {
          "output_type": "execute_result",
          "data": {
            "text/plain": [
              "array([[352,  92],\n",
              "       [ 75, 193]])"
            ]
          },
          "metadata": {},
          "execution_count": 58
        }
      ]
    },
    {
      "cell_type": "markdown",
      "source": [
        "### Support Vector Machine"
      ],
      "metadata": {
        "id": "fLecLGjL6DCo"
      }
    },
    {
      "cell_type": "code",
      "source": [
        "from sklearn.svm import SVC\n",
        "\n",
        "svm_clf = SVC(random_state=42)\n",
        "svm_clf.fit(titanic_prepared, titanic_labels) # had to use sparse matrix instead of dense one\n",
        "\n",
        "cross_val_score(svm_clf, titanic_prepared, titanic_labels, cv=3, scoring='accuracy')\n",
        "\n",
        "# the results are better than tree classifier!"
      ],
      "metadata": {
        "colab": {
          "base_uri": "https://localhost:8080/"
        },
        "id": "hK-pRmdc6Btk",
        "outputId": "dc718280-7269-42b4-97cb-bbf36fd4b9ca"
      },
      "execution_count": null,
      "outputs": [
        {
          "output_type": "execute_result",
          "data": {
            "text/plain": [
              "array([0.80672269, 0.83544304, 0.8185654 ])"
            ]
          },
          "metadata": {},
          "execution_count": 59
        }
      ]
    },
    {
      "cell_type": "code",
      "source": [
        "titanic_labels_pred = cross_val_predict(svm_clf, titanic_prepared, titanic_labels, cv=3)\n",
        "\n",
        "confusion_matrix(titanic_labels, titanic_labels_pred)\n",
        "\n",
        "# ah, well, we get a higher precision, but lower recall"
      ],
      "metadata": {
        "colab": {
          "base_uri": "https://localhost:8080/"
        },
        "id": "ls0ftYG87eWk",
        "outputId": "44bdd039-99c1-4800-d5f9-5413fbae3c82"
      },
      "execution_count": null,
      "outputs": [
        {
          "output_type": "execute_result",
          "data": {
            "text/plain": [
              "array([[401,  43],\n",
              "       [ 85, 183]])"
            ]
          },
          "metadata": {},
          "execution_count": 60
        }
      ]
    },
    {
      "cell_type": "markdown",
      "source": [
        "### Logistic Regression"
      ],
      "metadata": {
        "id": "1iCdbk3B80Ls"
      }
    },
    {
      "cell_type": "code",
      "source": [
        "from sklearn.linear_model import LogisticRegression\n",
        "\n",
        "logit_clf = LogisticRegression(random_state=42)\n",
        "logit_clf.fit(df_titanic_prepared, titanic_labels)\n",
        "\n",
        "cross_val_score(logit_clf, df_titanic_prepared, titanic_labels, cv=3, scoring='accuracy')\n",
        "\n",
        "# accuracy on par with SVM"
      ],
      "metadata": {
        "colab": {
          "base_uri": "https://localhost:8080/"
        },
        "id": "tuCjVH9F8d-P",
        "outputId": "46c5900f-53b7-48e4-d5a7-6583ae21422c"
      },
      "execution_count": null,
      "outputs": [
        {
          "output_type": "execute_result",
          "data": {
            "text/plain": [
              "array([0.79411765, 0.80590717, 0.80168776])"
            ]
          },
          "metadata": {},
          "execution_count": 61
        }
      ]
    },
    {
      "cell_type": "code",
      "source": [
        "titanic_labels_pred = cross_val_predict(logit_clf, df_titanic_prepared, titanic_labels, cv=3)\n",
        "\n",
        "confusion_matrix(titanic_labels, titanic_labels_pred)\n",
        "\n",
        "# we get fewer True Negatives (386), while recall is similar to SVM\n",
        "# yet we also have lower precision\n",
        "\n",
        "# I think I will go with SVM"
      ],
      "metadata": {
        "colab": {
          "base_uri": "https://localhost:8080/"
        },
        "id": "529qJEf89ijR",
        "outputId": "b1775e81-4958-4f43-bbcd-24a357ba61cb"
      },
      "execution_count": null,
      "outputs": [
        {
          "output_type": "execute_result",
          "data": {
            "text/plain": [
              "array([[386,  58],\n",
              "       [ 84, 184]])"
            ]
          },
          "metadata": {},
          "execution_count": 62
        }
      ]
    },
    {
      "cell_type": "markdown",
      "source": [
        "# Fine Tune the model"
      ],
      "metadata": {
        "id": "ln9Wohul-aqE"
      }
    },
    {
      "cell_type": "markdown",
      "source": [
        "Next, I will tinker in the SVM classifier with the decision function to see if I can find a good trade-off between Precision and Recall."
      ],
      "metadata": {
        "id": "t-S_l_Q3_Tqe"
      }
    },
    {
      "cell_type": "code",
      "source": [
        "from sklearn.model_selection import GridSearchCV\n",
        "\n",
        "# svm_clf.decision_function"
      ],
      "metadata": {
        "id": "3xGexffp958i"
      },
      "execution_count": null,
      "outputs": []
    },
    {
      "cell_type": "markdown",
      "source": [
        "# Submitting the results"
      ],
      "metadata": {
        "id": "a-f5EwnAFWFo"
      }
    },
    {
      "cell_type": "markdown",
      "source": [
        "## Get test data"
      ],
      "metadata": {
        "id": "-MYHMRI_FZJZ"
      }
    },
    {
      "cell_type": "code",
      "source": [
        "X_test = get__Data('test')"
      ],
      "metadata": {
        "id": "y0xxIk5aFlEh"
      },
      "execution_count": null,
      "outputs": []
    },
    {
      "cell_type": "code",
      "source": [
        "titanic_test = test_set.drop('Survived', axis=1)\n",
        "titanic_test_labels = test_set['Survived'].copy()"
      ],
      "metadata": {
        "id": "cJxJ-87tGi-z"
      },
      "execution_count": null,
      "outputs": []
    },
    {
      "cell_type": "code",
      "source": [
        "from sklearn.pipeline import Pipeline\n",
        "\n",
        "# svm_clf.decision_function\n",
        "\n",
        "full_pipeline = Pipeline([\n",
        "    ('preprocessing', preprocessing),\n",
        "    ('svm', SVC(random_state=42))\n",
        "])\n",
        "\n",
        "full_pipeline.fit(titanic, titanic_labels)\n",
        "# full_pipeline.predict(titanic)"
      ],
      "metadata": {
        "colab": {
          "base_uri": "https://localhost:8080/"
        },
        "id": "BGtvACF6FTNj",
        "outputId": "7a8edb46-83ab-4a97-87fa-f97b6aa4efa0"
      },
      "execution_count": null,
      "outputs": [
        {
          "output_type": "execute_result",
          "data": {
            "text/plain": [
              "Pipeline(steps=[('preprocessing',\n",
              "                 ColumnTransformer(transformers=[('num',\n",
              "                                                  Pipeline(steps=[('simpleimputer',\n",
              "                                                                   SimpleImputer(strategy='median')),\n",
              "                                                                  ('powertransformer',\n",
              "                                                                   PowerTransformer())]),\n",
              "                                                  ['Fare', 'Age']),\n",
              "                                                 ('cat',\n",
              "                                                  Pipeline(steps=[('simpleimputer',\n",
              "                                                                   SimpleImputer(strategy='most_frequent')),\n",
              "                                                                  ('onehotencoder',\n",
              "                                                                   OneHotEncoder(handle_unknown='ignore'))]),\n",
              "                                                  ['Sex', 'Pclass', 'Parch',\n",
              "                                                   'SibSp'])])),\n",
              "                ('svm', SVC(random_state=42))])"
            ]
          },
          "metadata": {},
          "execution_count": 64
        }
      ]
    },
    {
      "cell_type": "code",
      "source": [
        "titanic_test_pred = full_pipeline.predict(titanic_test)"
      ],
      "metadata": {
        "id": "YgCI_TAlG4pQ"
      },
      "execution_count": null,
      "outputs": []
    },
    {
      "cell_type": "code",
      "source": [
        "confusion_matrix(titanic_test_labels, titanic_test_pred)"
      ],
      "metadata": {
        "colab": {
          "base_uri": "https://localhost:8080/"
        },
        "id": "cxiVOHPNHBX1",
        "outputId": "3d6ab7b3-ba0f-4ab1-ad79-504abc5abc01"
      },
      "execution_count": null,
      "outputs": [
        {
          "output_type": "execute_result",
          "data": {
            "text/plain": [
              "array([[93, 12],\n",
              "       [22, 52]])"
            ]
          },
          "metadata": {},
          "execution_count": 380
        }
      ]
    },
    {
      "cell_type": "code",
      "source": [
        "Y_test = full_pipeline.predict(X_test)"
      ],
      "metadata": {
        "id": "Pu7uSvU1HSWP"
      },
      "execution_count": null,
      "outputs": []
    },
    {
      "cell_type": "markdown",
      "source": [
        "## Write Submission CSV"
      ],
      "metadata": {
        "id": "x4pH0774MeUO"
      }
    },
    {
      "cell_type": "code",
      "source": [
        "submission = X_test.copy()\n",
        "submission['Survived'] = Y_test\n",
        "submission = submission[['PassengerId', 'Survived']]\n",
        "submission.to_csv('/content/drive/MyDrive/Colab Notebooks/ml project #1 2023-01-25/data/submission_1.csv', index=False)"
      ],
      "metadata": {
        "id": "uyaZfKocJnb2"
      },
      "execution_count": null,
      "outputs": []
    }
  ]
}